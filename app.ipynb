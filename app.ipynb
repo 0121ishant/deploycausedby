{
 "cells": [
  {
   "cell_type": "code",
   "execution_count": 1,
   "metadata": {},
   "outputs": [
    {
     "data": {
      "text/plain": [
       "<Figure size 720x540 with 0 Axes>"
      ]
     },
     "metadata": {},
     "output_type": "display_data"
    }
   ],
   "source": [
    "import pandas as pd\n",
    "import numpy as np\n",
    "import seaborn as sns\n",
    "import matplotlib.pyplot as plt\n",
    "\n",
    "import statsmodels.formula.api as sm\n",
    "import scipy.stats as stats\n",
    "import pandas_profiling   #need to install using anaconda prompt (pip install pandas_profiling)\n",
    "\n",
    "%matplotlib inline\n",
    "plt.rcParams['figure.figsize'] = 10, 7.5\n",
    "plt.rcParams['axes.grid'] = True\n",
    "plt.gray()\n",
    "\n",
    "from matplotlib.backends.backend_pdf import PdfPages\n",
    "\n",
    "from sklearn.model_selection import train_test_split\n",
    "from sklearn import metrics\n",
    "from sklearn.linear_model import LogisticRegression\n",
    "from statsmodels.stats.outliers_influence import variance_inflation_factor\n",
    "from patsy import dmatrices\n",
    "import pickle"
   ]
  },
  {
   "cell_type": "code",
   "execution_count": 2,
   "metadata": {
    "scrolled": true
   },
   "outputs": [
    {
     "data": {
      "text/html": [
       "<div>\n",
       "<style scoped>\n",
       "    .dataframe tbody tr th:only-of-type {\n",
       "        vertical-align: middle;\n",
       "    }\n",
       "\n",
       "    .dataframe tbody tr th {\n",
       "        vertical-align: top;\n",
       "    }\n",
       "\n",
       "    .dataframe thead th {\n",
       "        text-align: right;\n",
       "    }\n",
       "</style>\n",
       "<table border=\"1\" class=\"dataframe\">\n",
       "  <thead>\n",
       "    <tr style=\"text-align: right;\">\n",
       "      <th></th>\n",
       "      <th>number</th>\n",
       "      <th>priority</th>\n",
       "      <th>caused_by</th>\n",
       "      <th>type</th>\n",
       "      <th>category</th>\n",
       "      <th>cmdb_ci</th>\n",
       "      <th>u_for_cab_review</th>\n",
       "      <th>u_ci_change_unavailable_i</th>\n",
       "      <th>u_impacted_application</th>\n",
       "      <th>u_change_timing</th>\n",
       "      <th>...</th>\n",
       "      <th>u_end_user_affected_i</th>\n",
       "      <th>u_critical_event</th>\n",
       "      <th>u_environment</th>\n",
       "      <th>SFA_date</th>\n",
       "      <th>assignment_group</th>\n",
       "      <th>short_description</th>\n",
       "      <th>urgency</th>\n",
       "      <th>u_implementation_status</th>\n",
       "      <th>start_date</th>\n",
       "      <th>end_date</th>\n",
       "    </tr>\n",
       "  </thead>\n",
       "  <tbody>\n",
       "    <tr>\n",
       "      <th>0</th>\n",
       "      <td>INC11787642</td>\n",
       "      <td>P1S3</td>\n",
       "      <td>CHG0755981</td>\n",
       "      <td>Comprehensive</td>\n",
       "      <td>Configure</td>\n",
       "      <td>Virtual Machine test</td>\n",
       "      <td>No</td>\n",
       "      <td>No</td>\n",
       "      <td>RedHat Enterprise Linux</td>\n",
       "      <td>Emergency</td>\n",
       "      <td>...</td>\n",
       "      <td>No effect to End User</td>\n",
       "      <td>False</td>\n",
       "      <td>Development</td>\n",
       "      <td>00-01-1900 00:00</td>\n",
       "      <td>CNS Cloud Connect Level 4</td>\n",
       "      <td>P1S3 Emergency &lt;DNS resolution issue on Infras...</td>\n",
       "      <td>2 - High</td>\n",
       "      <td>Successful</td>\n",
       "      <td>02-07-2019 18:00</td>\n",
       "      <td>03-07-2019 10:00</td>\n",
       "    </tr>\n",
       "    <tr>\n",
       "      <th>1</th>\n",
       "      <td>INC11788137</td>\n",
       "      <td>P2S2</td>\n",
       "      <td>CHG0755981</td>\n",
       "      <td>Comprehensive</td>\n",
       "      <td>Configure</td>\n",
       "      <td>Virtual Machine test</td>\n",
       "      <td>No</td>\n",
       "      <td>No</td>\n",
       "      <td>RedHat Enterprise Linux</td>\n",
       "      <td>Emergency</td>\n",
       "      <td>...</td>\n",
       "      <td>No effect to End User</td>\n",
       "      <td>False</td>\n",
       "      <td>Development</td>\n",
       "      <td>00-01-1900 00:00</td>\n",
       "      <td>CNS Cloud Connect Level 4</td>\n",
       "      <td>P1S3 Emergency &lt;DNS resolution issue on Infras...</td>\n",
       "      <td>2 - High</td>\n",
       "      <td>Successful</td>\n",
       "      <td>02-07-2019 18:00</td>\n",
       "      <td>03-07-2019 10:00</td>\n",
       "    </tr>\n",
       "    <tr>\n",
       "      <th>2</th>\n",
       "      <td>INC11788797</td>\n",
       "      <td>P2S2</td>\n",
       "      <td>CHG0735342</td>\n",
       "      <td>NaN</td>\n",
       "      <td>NaN</td>\n",
       "      <td>NaN</td>\n",
       "      <td>NaN</td>\n",
       "      <td>NaN</td>\n",
       "      <td>NaN</td>\n",
       "      <td>NaN</td>\n",
       "      <td>...</td>\n",
       "      <td>NaN</td>\n",
       "      <td>NaN</td>\n",
       "      <td>NaN</td>\n",
       "      <td>NaN</td>\n",
       "      <td>NaN</td>\n",
       "      <td>NaN</td>\n",
       "      <td>NaN</td>\n",
       "      <td>NaN</td>\n",
       "      <td>NaN</td>\n",
       "      <td>NaN</td>\n",
       "    </tr>\n",
       "    <tr>\n",
       "      <th>3</th>\n",
       "      <td>INC11790329</td>\n",
       "      <td>P1S3</td>\n",
       "      <td>CHG0716171</td>\n",
       "      <td>NaN</td>\n",
       "      <td>NaN</td>\n",
       "      <td>NaN</td>\n",
       "      <td>NaN</td>\n",
       "      <td>NaN</td>\n",
       "      <td>NaN</td>\n",
       "      <td>NaN</td>\n",
       "      <td>...</td>\n",
       "      <td>NaN</td>\n",
       "      <td>NaN</td>\n",
       "      <td>NaN</td>\n",
       "      <td>NaN</td>\n",
       "      <td>NaN</td>\n",
       "      <td>NaN</td>\n",
       "      <td>NaN</td>\n",
       "      <td>NaN</td>\n",
       "      <td>NaN</td>\n",
       "      <td>NaN</td>\n",
       "    </tr>\n",
       "    <tr>\n",
       "      <th>4</th>\n",
       "      <td>INC11790388</td>\n",
       "      <td>P1S3</td>\n",
       "      <td>CHG0716171</td>\n",
       "      <td>NaN</td>\n",
       "      <td>NaN</td>\n",
       "      <td>NaN</td>\n",
       "      <td>NaN</td>\n",
       "      <td>NaN</td>\n",
       "      <td>NaN</td>\n",
       "      <td>NaN</td>\n",
       "      <td>...</td>\n",
       "      <td>NaN</td>\n",
       "      <td>NaN</td>\n",
       "      <td>NaN</td>\n",
       "      <td>NaN</td>\n",
       "      <td>NaN</td>\n",
       "      <td>NaN</td>\n",
       "      <td>NaN</td>\n",
       "      <td>NaN</td>\n",
       "      <td>NaN</td>\n",
       "      <td>NaN</td>\n",
       "    </tr>\n",
       "  </tbody>\n",
       "</table>\n",
       "<p>5 rows × 31 columns</p>\n",
       "</div>"
      ],
      "text/plain": [
       "        number priority   caused_by           type   category  \\\n",
       "0  INC11787642     P1S3  CHG0755981  Comprehensive  Configure   \n",
       "1  INC11788137     P2S2  CHG0755981  Comprehensive  Configure   \n",
       "2  INC11788797     P2S2  CHG0735342            NaN        NaN   \n",
       "3  INC11790329     P1S3  CHG0716171            NaN        NaN   \n",
       "4  INC11790388     P1S3  CHG0716171            NaN        NaN   \n",
       "\n",
       "                cmdb_ci u_for_cab_review u_ci_change_unavailable_i  \\\n",
       "0  Virtual Machine test               No                        No   \n",
       "1  Virtual Machine test               No                        No   \n",
       "2                   NaN              NaN                       NaN   \n",
       "3                   NaN              NaN                       NaN   \n",
       "4                   NaN              NaN                       NaN   \n",
       "\n",
       "    u_impacted_application u_change_timing  ...  u_end_user_affected_i  \\\n",
       "0  RedHat Enterprise Linux       Emergency  ...  No effect to End User   \n",
       "1  RedHat Enterprise Linux       Emergency  ...  No effect to End User   \n",
       "2                      NaN             NaN  ...                    NaN   \n",
       "3                      NaN             NaN  ...                    NaN   \n",
       "4                      NaN             NaN  ...                    NaN   \n",
       "\n",
       "  u_critical_event u_environment          SFA_date           assignment_group  \\\n",
       "0            False   Development  00-01-1900 00:00  CNS Cloud Connect Level 4   \n",
       "1            False   Development  00-01-1900 00:00  CNS Cloud Connect Level 4   \n",
       "2              NaN           NaN               NaN                        NaN   \n",
       "3              NaN           NaN               NaN                        NaN   \n",
       "4              NaN           NaN               NaN                        NaN   \n",
       "\n",
       "                                   short_description   urgency  \\\n",
       "0  P1S3 Emergency <DNS resolution issue on Infras...  2 - High   \n",
       "1  P1S3 Emergency <DNS resolution issue on Infras...  2 - High   \n",
       "2                                                NaN       NaN   \n",
       "3                                                NaN       NaN   \n",
       "4                                                NaN       NaN   \n",
       "\n",
       "  u_implementation_status        start_date          end_date  \n",
       "0              Successful  02-07-2019 18:00  03-07-2019 10:00  \n",
       "1              Successful  02-07-2019 18:00  03-07-2019 10:00  \n",
       "2                     NaN               NaN               NaN  \n",
       "3                     NaN               NaN               NaN  \n",
       "4                     NaN               NaN               NaN  \n",
       "\n",
       "[5 rows x 31 columns]"
      ]
     },
     "execution_count": 2,
     "metadata": {},
     "output_type": "execute_result"
    }
   ],
   "source": [
    "data=pd.read_csv('incchn1920.csv',encoding=\"latin1\")\n",
    "data.head()"
   ]
  },
  {
   "cell_type": "code",
   "execution_count": 3,
   "metadata": {},
   "outputs": [
    {
     "data": {
      "text/plain": [
       "Index(['number', 'priority', 'caused_by', 'type', 'category', 'cmdb_ci',\n",
       "       'u_for_cab_review', 'u_ci_change_unavailable_i',\n",
       "       'u_impacted_application', 'u_change_timing', 'subcategory',\n",
       "       'u_kind_change_impl_i', 'u_where_impl_change_i',\n",
       "       'u_affect_share_or_core_i', 'scope', 'u_countries', 'u_offices',\n",
       "       'u_area', 'u_sub_area', 'u_portfolio', 'u_impact_not_performed_i',\n",
       "       'u_end_user_affected_i', 'u_critical_event', 'u_environment',\n",
       "       'SFA_date', 'assignment_group', 'short_description', 'urgency',\n",
       "       'u_implementation_status', 'start_date', 'end_date'],\n",
       "      dtype='object')"
      ]
     },
     "execution_count": 3,
     "metadata": {},
     "output_type": "execute_result"
    }
   ],
   "source": [
    "data.columns"
   ]
  },
  {
   "cell_type": "code",
   "execution_count": 4,
   "metadata": {},
   "outputs": [],
   "source": [
    "data['label'] = data['priority'].map({'P1S1': 1, 'P1S2': 2,'P1S3' :3, 'P2S1' :4, 'P2S2' :5})\n",
    "X=data.loc[:,['cmdb_ci','u_impacted_application','u_portfolio','u_environment']]\n",
    "y=data['label']"
   ]
  },
  {
   "cell_type": "code",
   "execution_count": 5,
   "metadata": {},
   "outputs": [
    {
     "data": {
      "text/html": [
       "<div>\n",
       "<style scoped>\n",
       "    .dataframe tbody tr th:only-of-type {\n",
       "        vertical-align: middle;\n",
       "    }\n",
       "\n",
       "    .dataframe tbody tr th {\n",
       "        vertical-align: top;\n",
       "    }\n",
       "\n",
       "    .dataframe thead th {\n",
       "        text-align: right;\n",
       "    }\n",
       "</style>\n",
       "<table border=\"1\" class=\"dataframe\">\n",
       "  <thead>\n",
       "    <tr style=\"text-align: right;\">\n",
       "      <th></th>\n",
       "      <th>cmdb_ci</th>\n",
       "      <th>u_impacted_application</th>\n",
       "      <th>u_portfolio</th>\n",
       "      <th>u_environment</th>\n",
       "    </tr>\n",
       "  </thead>\n",
       "  <tbody>\n",
       "    <tr>\n",
       "      <th>0</th>\n",
       "      <td>Virtual Machine test</td>\n",
       "      <td>RedHat Enterprise Linux</td>\n",
       "      <td>IT Infrastructure</td>\n",
       "      <td>Development</td>\n",
       "    </tr>\n",
       "    <tr>\n",
       "      <th>1</th>\n",
       "      <td>Virtual Machine test</td>\n",
       "      <td>RedHat Enterprise Linux</td>\n",
       "      <td>IT Infrastructure</td>\n",
       "      <td>Development</td>\n",
       "    </tr>\n",
       "    <tr>\n",
       "      <th>2</th>\n",
       "      <td>NaN</td>\n",
       "      <td>NaN</td>\n",
       "      <td>NaN</td>\n",
       "      <td>NaN</td>\n",
       "    </tr>\n",
       "    <tr>\n",
       "      <th>3</th>\n",
       "      <td>NaN</td>\n",
       "      <td>NaN</td>\n",
       "      <td>NaN</td>\n",
       "      <td>NaN</td>\n",
       "    </tr>\n",
       "    <tr>\n",
       "      <th>4</th>\n",
       "      <td>NaN</td>\n",
       "      <td>NaN</td>\n",
       "      <td>NaN</td>\n",
       "      <td>NaN</td>\n",
       "    </tr>\n",
       "    <tr>\n",
       "      <th>...</th>\n",
       "      <td>...</td>\n",
       "      <td>...</td>\n",
       "      <td>...</td>\n",
       "      <td>...</td>\n",
       "    </tr>\n",
       "    <tr>\n",
       "      <th>2617</th>\n",
       "      <td>Load Balancer</td>\n",
       "      <td>Active Directory</td>\n",
       "      <td>IT Infrastructure</td>\n",
       "      <td>Production</td>\n",
       "    </tr>\n",
       "    <tr>\n",
       "      <th>2618</th>\n",
       "      <td>R2-NLLWR-NO02-00-RTR-01.EY.NET</td>\n",
       "      <td>NaN</td>\n",
       "      <td>IT Infrastructure</td>\n",
       "      <td>Production</td>\n",
       "    </tr>\n",
       "    <tr>\n",
       "      <th>2619</th>\n",
       "      <td>SERVER NOT LISTED</td>\n",
       "      <td>NaN</td>\n",
       "      <td>GHS</td>\n",
       "      <td>Production</td>\n",
       "    </tr>\n",
       "    <tr>\n",
       "      <th>2620</th>\n",
       "      <td>SERVER NOT LISTED</td>\n",
       "      <td>NaN</td>\n",
       "      <td>GHS</td>\n",
       "      <td>Production</td>\n",
       "    </tr>\n",
       "    <tr>\n",
       "      <th>2621</th>\n",
       "      <td>MS Windows Server</td>\n",
       "      <td>IT Service Not Listed</td>\n",
       "      <td>IT Infrastructure</td>\n",
       "      <td>Production</td>\n",
       "    </tr>\n",
       "  </tbody>\n",
       "</table>\n",
       "<p>2622 rows × 4 columns</p>\n",
       "</div>"
      ],
      "text/plain": [
       "                             cmdb_ci   u_impacted_application  \\\n",
       "0               Virtual Machine test  RedHat Enterprise Linux   \n",
       "1               Virtual Machine test  RedHat Enterprise Linux   \n",
       "2                                NaN                      NaN   \n",
       "3                                NaN                      NaN   \n",
       "4                                NaN                      NaN   \n",
       "...                              ...                      ...   \n",
       "2617                   Load Balancer         Active Directory   \n",
       "2618  R2-NLLWR-NO02-00-RTR-01.EY.NET                      NaN   \n",
       "2619               SERVER NOT LISTED                      NaN   \n",
       "2620               SERVER NOT LISTED                      NaN   \n",
       "2621               MS Windows Server    IT Service Not Listed   \n",
       "\n",
       "            u_portfolio u_environment  \n",
       "0     IT Infrastructure   Development  \n",
       "1     IT Infrastructure   Development  \n",
       "2                   NaN           NaN  \n",
       "3                   NaN           NaN  \n",
       "4                   NaN           NaN  \n",
       "...                 ...           ...  \n",
       "2617  IT Infrastructure    Production  \n",
       "2618  IT Infrastructure    Production  \n",
       "2619                GHS    Production  \n",
       "2620                GHS    Production  \n",
       "2621  IT Infrastructure    Production  \n",
       "\n",
       "[2622 rows x 4 columns]"
      ]
     },
     "execution_count": 5,
     "metadata": {},
     "output_type": "execute_result"
    }
   ],
   "source": [
    "X"
   ]
  },
  {
   "cell_type": "code",
   "execution_count": 6,
   "metadata": {},
   "outputs": [
    {
     "data": {
      "text/plain": [
       "0       3\n",
       "1       5\n",
       "2       5\n",
       "3       3\n",
       "4       3\n",
       "       ..\n",
       "2617    2\n",
       "2618    3\n",
       "2619    3\n",
       "2620    3\n",
       "2621    3\n",
       "Name: label, Length: 2622, dtype: int64"
      ]
     },
     "execution_count": 6,
     "metadata": {},
     "output_type": "execute_result"
    }
   ],
   "source": [
    "y"
   ]
  },
  {
   "cell_type": "code",
   "execution_count": 7,
   "metadata": {},
   "outputs": [
    {
     "data": {
      "text/plain": [
       "3    1584\n",
       "4     778\n",
       "5     207\n",
       "2      37\n",
       "1      16\n",
       "Name: label, dtype: int64"
      ]
     },
     "execution_count": 7,
     "metadata": {},
     "output_type": "execute_result"
    }
   ],
   "source": [
    "y.value_counts()"
   ]
  },
  {
   "cell_type": "code",
   "execution_count": 8,
   "metadata": {},
   "outputs": [
    {
     "data": {
      "text/plain": [
       "(2622,)"
      ]
     },
     "execution_count": 8,
     "metadata": {},
     "output_type": "execute_result"
    }
   ],
   "source": [
    "y.shape"
   ]
  },
  {
   "cell_type": "code",
   "execution_count": 9,
   "metadata": {},
   "outputs": [
    {
     "data": {
      "text/plain": [
       "(2622, 4)"
      ]
     },
     "execution_count": 9,
     "metadata": {},
     "output_type": "execute_result"
    }
   ],
   "source": [
    "X.shape"
   ]
  },
  {
   "cell_type": "code",
   "execution_count": 10,
   "metadata": {},
   "outputs": [],
   "source": [
    "from sklearn.preprocessing import OrdinalEncoder, StandardScaler,LabelEncoder"
   ]
  },
  {
   "cell_type": "code",
   "execution_count": 11,
   "metadata": {},
   "outputs": [],
   "source": [
    "enc= LabelEncoder()"
   ]
  },
  {
   "cell_type": "code",
   "execution_count": 12,
   "metadata": {},
   "outputs": [],
   "source": [
    "X = X.apply(lambda col: enc.fit_transform(col.astype(str)), axis=0, result_type='expand')"
   ]
  },
  {
   "cell_type": "code",
   "execution_count": 13,
   "metadata": {},
   "outputs": [
    {
     "data": {
      "text/html": [
       "<div>\n",
       "<style scoped>\n",
       "    .dataframe tbody tr th:only-of-type {\n",
       "        vertical-align: middle;\n",
       "    }\n",
       "\n",
       "    .dataframe tbody tr th {\n",
       "        vertical-align: top;\n",
       "    }\n",
       "\n",
       "    .dataframe thead th {\n",
       "        text-align: right;\n",
       "    }\n",
       "</style>\n",
       "<table border=\"1\" class=\"dataframe\">\n",
       "  <thead>\n",
       "    <tr style=\"text-align: right;\">\n",
       "      <th></th>\n",
       "      <th>cmdb_ci</th>\n",
       "      <th>u_impacted_application</th>\n",
       "      <th>u_portfolio</th>\n",
       "      <th>u_environment</th>\n",
       "    </tr>\n",
       "  </thead>\n",
       "  <tbody>\n",
       "    <tr>\n",
       "      <th>0</th>\n",
       "      <td>271</td>\n",
       "      <td>142</td>\n",
       "      <td>20</td>\n",
       "      <td>0</td>\n",
       "    </tr>\n",
       "    <tr>\n",
       "      <th>1</th>\n",
       "      <td>271</td>\n",
       "      <td>142</td>\n",
       "      <td>20</td>\n",
       "      <td>0</td>\n",
       "    </tr>\n",
       "    <tr>\n",
       "      <th>2</th>\n",
       "      <td>284</td>\n",
       "      <td>188</td>\n",
       "      <td>33</td>\n",
       "      <td>2</td>\n",
       "    </tr>\n",
       "    <tr>\n",
       "      <th>3</th>\n",
       "      <td>284</td>\n",
       "      <td>188</td>\n",
       "      <td>33</td>\n",
       "      <td>2</td>\n",
       "    </tr>\n",
       "    <tr>\n",
       "      <th>4</th>\n",
       "      <td>284</td>\n",
       "      <td>188</td>\n",
       "      <td>33</td>\n",
       "      <td>2</td>\n",
       "    </tr>\n",
       "    <tr>\n",
       "      <th>...</th>\n",
       "      <td>...</td>\n",
       "      <td>...</td>\n",
       "      <td>...</td>\n",
       "      <td>...</td>\n",
       "    </tr>\n",
       "    <tr>\n",
       "      <th>2617</th>\n",
       "      <td>124</td>\n",
       "      <td>4</td>\n",
       "      <td>20</td>\n",
       "      <td>1</td>\n",
       "    </tr>\n",
       "    <tr>\n",
       "      <th>2618</th>\n",
       "      <td>198</td>\n",
       "      <td>188</td>\n",
       "      <td>20</td>\n",
       "      <td>1</td>\n",
       "    </tr>\n",
       "    <tr>\n",
       "      <th>2619</th>\n",
       "      <td>228</td>\n",
       "      <td>188</td>\n",
       "      <td>15</td>\n",
       "      <td>1</td>\n",
       "    </tr>\n",
       "    <tr>\n",
       "      <th>2620</th>\n",
       "      <td>228</td>\n",
       "      <td>188</td>\n",
       "      <td>15</td>\n",
       "      <td>1</td>\n",
       "    </tr>\n",
       "    <tr>\n",
       "      <th>2621</th>\n",
       "      <td>128</td>\n",
       "      <td>96</td>\n",
       "      <td>20</td>\n",
       "      <td>1</td>\n",
       "    </tr>\n",
       "  </tbody>\n",
       "</table>\n",
       "<p>2622 rows × 4 columns</p>\n",
       "</div>"
      ],
      "text/plain": [
       "      cmdb_ci  u_impacted_application  u_portfolio  u_environment\n",
       "0         271                     142           20              0\n",
       "1         271                     142           20              0\n",
       "2         284                     188           33              2\n",
       "3         284                     188           33              2\n",
       "4         284                     188           33              2\n",
       "...       ...                     ...          ...            ...\n",
       "2617      124                       4           20              1\n",
       "2618      198                     188           20              1\n",
       "2619      228                     188           15              1\n",
       "2620      228                     188           15              1\n",
       "2621      128                      96           20              1\n",
       "\n",
       "[2622 rows x 4 columns]"
      ]
     },
     "execution_count": 13,
     "metadata": {},
     "output_type": "execute_result"
    }
   ],
   "source": [
    "X"
   ]
  },
  {
   "cell_type": "code",
   "execution_count": 14,
   "metadata": {},
   "outputs": [],
   "source": [
    "from flask import Flask,render_template,url_for,request\n",
    "from gevent.pywsgi import WSGIServer\n",
    "import pandas as pd \n",
    "import pickle"
   ]
  },
  {
   "cell_type": "code",
   "execution_count": 15,
   "metadata": {},
   "outputs": [],
   "source": [
    "pickle.dump(enc, open('tranform.pkl', 'wb'))"
   ]
  },
  {
   "cell_type": "code",
   "execution_count": 16,
   "metadata": {},
   "outputs": [],
   "source": [
    "from sklearn.model_selection import train_test_split\n",
    "X_train, X_test, y_train, y_test = train_test_split(X, y, test_size=0.33, random_state=42)"
   ]
  },
  {
   "cell_type": "code",
   "execution_count": 17,
   "metadata": {},
   "outputs": [],
   "source": [
    "from sklearn.ensemble import RandomForestClassifier"
   ]
  },
  {
   "cell_type": "code",
   "execution_count": 18,
   "metadata": {},
   "outputs": [
    {
     "data": {
      "text/plain": [
       "0.6212471131639723"
      ]
     },
     "execution_count": 18,
     "metadata": {},
     "output_type": "execute_result"
    }
   ],
   "source": [
    "clf =  RandomForestClassifier(max_depth=27)\n",
    "clf.fit(X_train,y_train)\n",
    "clf.score(X_test,y_test)"
   ]
  },
  {
   "cell_type": "code",
   "execution_count": 19,
   "metadata": {},
   "outputs": [],
   "source": [
    "filename = 'nlp_model.pkl'\n",
    "pickle.dump(clf, open(filename, 'wb'))"
   ]
  },
  {
   "cell_type": "code",
   "execution_count": 20,
   "metadata": {},
   "outputs": [],
   "source": [
    "filename = 'nlp_model.pkl'\n",
    "clf = pickle.load(open(filename, 'rb'))\n",
    "enc=pickle.load(open('tranform.pkl','rb'))"
   ]
  },
  {
   "cell_type": "code",
   "execution_count": 21,
   "metadata": {},
   "outputs": [],
   "source": [
    "app = Flask(__name__)"
   ]
  },
  {
   "cell_type": "code",
   "execution_count": 22,
   "metadata": {},
   "outputs": [],
   "source": [
    "import pickle\n",
    "pickle_out = open(filename,\"wb\")\n",
    "pickle.dump(clf, pickle_out)\n",
    "pickle_out.close()"
   ]
  },
  {
   "cell_type": "code",
   "execution_count": 23,
   "metadata": {},
   "outputs": [
    {
     "data": {
      "text/plain": [
       "array([3], dtype=int64)"
      ]
     },
     "execution_count": 23,
     "metadata": {},
     "output_type": "execute_result"
    }
   ],
   "source": [
    "clf.predict([[271,142,15,2]])"
   ]
  },
  {
   "cell_type": "code",
   "execution_count": 24,
   "metadata": {},
   "outputs": [],
   "source": [
    "@app.route('/')\n",
    "def home():\n",
    "    return render_template('home.html')"
   ]
  },
  {
   "cell_type": "code",
   "execution_count": 25,
   "metadata": {},
   "outputs": [],
   "source": [
    "@app.route('/predict',methods=['POST'])\n",
    "def predict():\n",
    "    if request.method == 'POST':\n",
    "        impactedapplication = request.form['u_impacted_application']\n",
    "        cmdbci=request.form['cmdb_ci']\n",
    "        portfolio=request.form['u_portfolio']\n",
    "        environment=request.form['u_environment']\n",
    "        #vect = enc.transform([[impactedapplication,cmdbci,portfolio,environment]]).toarray()\n",
    "        my_prediction = clf.predict([[impactedapplication,cmdbci,portfolio,environment]])\n",
    "    return render_template('result.html',prediction = my_prediction)"
   ]
  },
  {
   "cell_type": "code",
   "execution_count": null,
   "metadata": {},
   "outputs": [
    {
     "name": "stdout",
     "output_type": "stream",
     "text": [
      " * Serving Flask app \"__main__\" (lazy loading)\n",
      " * Environment: production\n",
      "   WARNING: This is a development server. Do not use it in a production deployment.\n",
      "   Use a production WSGI server instead.\n",
      " * Debug mode: on\n"
     ]
    },
    {
     "name": "stderr",
     "output_type": "stream",
     "text": [
      " * Running on http://127.0.0.1:5000/ (Press CTRL+C to quit)\n"
     ]
    }
   ],
   "source": [
    "if __name__ == '__main__':\n",
    "    app.run(debug=True, use_reloader=False)\n",
    "   "
   ]
  }
 ],
 "metadata": {
  "kernelspec": {
   "display_name": "Python 3",
   "language": "python",
   "name": "python3"
  },
  "language_info": {
   "codemirror_mode": {
    "name": "ipython",
    "version": 3
   },
   "file_extension": ".py",
   "mimetype": "text/x-python",
   "name": "python",
   "nbconvert_exporter": "python",
   "pygments_lexer": "ipython3",
   "version": "3.7.6"
  }
 },
 "nbformat": 4,
 "nbformat_minor": 4
}
